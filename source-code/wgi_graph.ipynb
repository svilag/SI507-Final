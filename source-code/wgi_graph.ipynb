{
 "cells": [
  {
   "cell_type": "code",
   "execution_count": 1,
   "metadata": {},
   "outputs": [],
   "source": [
    "import wgi_parser_final as wgi\n",
    "\n",
    "competitions = wgi.read_json('./data/competitions.json')\n",
    "groups = wgi.read_json('./data/groups.json')"
   ]
  },
  {
   "cell_type": "code",
   "execution_count": 3,
   "metadata": {},
   "outputs": [],
   "source": [
    "class Vertex():\n",
    "    def __init__(self, key):\n",
    "        self.id = key\n",
    "        self.connected_to = {}\n",
    "\n",
    "    def add_neighbor(self, nbr, weight=0):\n",
    "        self.connected_to[nbr] = weight\n",
    "\n",
    "    def get_id(self):\n",
    "        return self.id\n",
    "\n",
    "    def get_weight(self, nbr):\n",
    "        return self.connected_to[nbr]\n",
    "\n",
    "    def get_connections(self):\n",
    "        return self.connected_to.keys()\n",
    "\n",
    "    def __str__(self):\n",
    "        return f\"{str(self.id)} is connected to {str([x.id for x in self.connected_to])}\""
   ]
  },
  {
   "cell_type": "code",
   "execution_count": 4,
   "metadata": {},
   "outputs": [],
   "source": [
    "class Graph():\n",
    "    def __init__(self):\n",
    "        self.vert_list = {}\n",
    "        self.num_verts = 0\n",
    "\n",
    "    def add_vertex(self, key):\n",
    "        self.num_verts += 1\n",
    "        new_vert = Vertex(key)\n",
    "        self.vert_list[key] = new_vert\n",
    "        return new_vert\n",
    "\n",
    "    def get_vertex(self, n):\n",
    "        if n in self.vert_list:\n",
    "            return self.vert_list[n]\n",
    "        else:\n",
    "            return None\n",
    "\n",
    "    def __contains__(self, n):\n",
    "        return n in self.vert_list\n",
    "\n",
    "    def add_edge (self, f, t, weight=0):\n",
    "        if f not in self.vert_list:\n",
    "            nv = self.add_vertex(f)\n",
    "        if t not in self.vert_list:\n",
    "            nv = self.add_vertex(t)\n",
    "        self.vert_list[f].add_neighbor(self.vert_list[t], weight)\n",
    "\n",
    "    def get_vertices(self):\n",
    "        return self.vert_list.keys()\n",
    "\n",
    "    def __iter__(self):\n",
    "        return iter(self.vert_list.keys())\n"
   ]
  },
  {
   "cell_type": "code",
   "execution_count": 25,
   "metadata": {},
   "outputs": [
    {
     "name": "stdout",
     "output_type": "stream",
     "text": [
      "{'name': '4th Wall', 'class_level': 'Independent Marching World', 'location': 'Louisville, Ky', 'competitions': {'Dayton Perc Finals, March 27, 2022': '81.500', 'Dayton Perc Prelims, March 26, 2022': '78.400', 'Indianapolis Perc Finals, March 06, 2022': '75.600', 'Indianapolis Perc Prelims, March 05, 2022': '75.850'}}\n",
      "{'name': 'A.L. Brown HS', 'class_level': 'Scholastic Marching A', 'location': ' Kannapolis, North Carolina', 'competitions': {'PSA Prelims, April 19, 2018': '82.150'}}\n",
      "{'name': 'Acadiana HS', 'class_level': 'Scholastic Marching A', 'location': ' Lafayette, Louisiana', 'competitions': {'PSA Prelims, April 19, 2018': '0.000', 'South Power Regional Perc Prelims, March 17, 2018': '74.600'}}\n",
      "{'name': 'Aftermath Percussion', 'class_level': 'Independent Marching A', 'location': ' Lehigh Valley, Pennsylvania', 'competitions': {'PIA Prelims, April 19, 2018': '76.588'}}\n",
      "{'name': 'Albemarle County Combined Schools', 'class_level': 'Scholastic Marching A', 'location': 'Charlottesville, VA', 'competitions': {'Richmond Perc Finals, March 05, 2022': '65.300', 'Richmond Perc Prelims, March 05, 2022': '63.800'}}\n",
      "{'name': 'Alchemy Percussion presented by Carolina Gold', 'class_level': 'Independent Marching Open', 'location': ' Raleigh, NC', 'competitions': {'PIO Prelims Hobart Arena, April 11, 2019': '80.150', 'Atlanta Perc Prelims, March 16, 2019': '75.750', 'Atlanta Perc Finals, March 16, 2019': '78.650', 'Richmond Perc Finals, February 23, 2019': '72.350', 'Richmond Perc Prelims, February 23, 2019': '69.450', 'PIO Prelims, April 19, 2018': '82.475'}}\n",
      "{'name': 'Alpharetta HS', 'class_level': 'Scholastic Marching A', 'location': 'Alpharetta, GA', 'competitions': {'Atlanta Perc Finals, March 19, 2022': '82.050', 'Atlanta Perc Prelims, March 19, 2022': '79.650'}}\n",
      "{'name': 'Amador Valley HS', 'class_level': 'Scholastic Marching Open', 'location': 'Pleasanton, CA', 'competitions': {'West Perc Finals, March 24, 2019': '78.575', 'West Perc Prelims, March 23, 2019': '79.550'}}\n",
      "{'name': 'Amador Valley HS', 'class_level': 'Scholastic Marching World', 'location': 'Pleasanton, CA', 'competitions': {'San Bernardino Perc Finals, March 27, 2022': '82.950', 'San Bernardino Perc Prelims, March 26, 2022': '81.450'}}\n",
      "{'name': 'Ancient City Ensemble', 'class_level': 'Independent Marching Open', 'location': 'Trenton, FL', 'competitions': {'Orlando Perc Prelims, February 22, 2020': '76.900', 'Orlando Perc Finals, February 22, 2020': '78.950', 'Open Class Finals UD Arena, April 13, 2019': '91.163', 'PIO Semi Finals Nutter Center, April 12, 2019': '91.200', 'Orlando Perc Prelims, February 23, 2019': '78.450', 'Orlando Perc Finals, February 23, 2019': '80.550', 'PIO Prelims Hobart Arena, April 11, 2019': '91.400', 'PIO Semi Finals, April 20, 2018': '84.925', 'PIO Prelims, April 19, 2018': '84.325'}}\n"
     ]
    }
   ],
   "source": [
    "test_graph = Graph()\n",
    "\n",
    "# for comp in competitions:\n",
    "    # comp_title = comp['title']\n",
    "    # comp_date = comp['date']\n",
    "    # test_graph.add_vertex(f\"{comp_title}, {comp_date}\")\n",
    "#     for group_name, scores in comp['scores_by_group'].items():\n",
    "#         group = group_name\n",
    "#         score = scores\n",
    "#         test_graph.add_edge(f\"{comp_title}, {comp_date}\", group, score)\n",
    "\n",
    "# for group in groups:\n",
    "#     group_name = group['name']\n",
    "#     test_graph.add_vertex(group_name)\n",
    "#     for comp_name, scores in group['competitions'].items():\n",
    "#         comp = comp_name\n",
    "#         score = scores\n",
    "#         test_graph.add_edge(group_name, comp, score)\n",
    "\n",
    "# for comp in competitions[:10]:\n",
    "#     print(comp)\n",
    "\n",
    "for group in groups[:10]:\n",
    "    print(group)\n",
    "\n",
    "\n",
    "for v in test_graph.vert_list.values():\n",
    "    for w in v.get_connections():\n",
    "        print(w)\n",
    "        # print(\"( %s , %s )\" % (v.get_id(), w.get_id()))\n",
    "\n"
   ]
  },
  {
   "cell_type": "code",
   "execution_count": null,
   "metadata": {},
   "outputs": [],
   "source": [
    "# TODO implement search\n",
    "# TODO save graph"
   ]
  },
  {
   "cell_type": "markdown",
   "metadata": {},
   "source": []
  }
 ],
 "metadata": {
  "interpreter": {
   "hash": "bb090b1801519df74d461290f6a3ad7983a75dcf94711c681fabb2ead4c463ab"
  },
  "kernelspec": {
   "display_name": "Python 3.10.2 ('venv': venv)",
   "language": "python",
   "name": "python3"
  },
  "language_info": {
   "codemirror_mode": {
    "name": "ipython",
    "version": 3
   },
   "file_extension": ".py",
   "mimetype": "text/x-python",
   "name": "python",
   "nbconvert_exporter": "python",
   "pygments_lexer": "ipython3",
   "version": "3.10.2"
  },
  "orig_nbformat": 4
 },
 "nbformat": 4,
 "nbformat_minor": 2
}
